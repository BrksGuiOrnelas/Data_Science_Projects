{
 "cells": [
  {
   "cell_type": "markdown",
   "id": "3f068b65",
   "metadata": {},
   "source": [
    "# Machine Learning - Regressão Linear\n",
    "\n",
    "### Objetivo deste projeto é prever o salário para determinados anos de experiência com base no conjunto de dados fornecido.\n"
   ]
  },
  {
   "cell_type": "markdown",
   "id": "821d0390",
   "metadata": {},
   "source": [
    "#### Importando as bibliotecas necessárias"
   ]
  },
  {
   "cell_type": "code",
   "execution_count": 25,
   "id": "007ae8be",
   "metadata": {},
   "outputs": [],
   "source": [
    "import pandas as pd\n",
    "import numpy as np\n",
    "import matplotlib.pyplot as plt\n",
    "import seaborn as sns \n",
    "import warnings \n",
    "warnings.filterwarnings(\"ignore\")\n",
    "\n",
    "%matplotlib inline"
   ]
  },
  {
   "cell_type": "markdown",
   "id": "342576b6",
   "metadata": {},
   "source": [
    "#### Lendo o Dataframe e definindo como Df"
   ]
  },
  {
   "cell_type": "code",
   "execution_count": 26,
   "id": "b9c3268d",
   "metadata": {},
   "outputs": [],
   "source": [
    "df = pd.read_csv('Salary_Data.csv')"
   ]
  },
  {
   "cell_type": "markdown",
   "id": "8ba1c645",
   "metadata": {},
   "source": [
    "#### Vamos verificar o cabeçalho com o método .head() e dar uma olhada nos dados"
   ]
  },
  {
   "cell_type": "code",
   "execution_count": 27,
   "id": "0b8c37c5",
   "metadata": {},
   "outputs": [
    {
     "data": {
      "text/html": [
       "<div>\n",
       "<style scoped>\n",
       "    .dataframe tbody tr th:only-of-type {\n",
       "        vertical-align: middle;\n",
       "    }\n",
       "\n",
       "    .dataframe tbody tr th {\n",
       "        vertical-align: top;\n",
       "    }\n",
       "\n",
       "    .dataframe thead th {\n",
       "        text-align: right;\n",
       "    }\n",
       "</style>\n",
       "<table border=\"1\" class=\"dataframe\">\n",
       "  <thead>\n",
       "    <tr style=\"text-align: right;\">\n",
       "      <th></th>\n",
       "      <th>YearsExperience</th>\n",
       "      <th>Salary</th>\n",
       "    </tr>\n",
       "  </thead>\n",
       "  <tbody>\n",
       "    <tr>\n",
       "      <th>0</th>\n",
       "      <td>1.1</td>\n",
       "      <td>39343.0</td>\n",
       "    </tr>\n",
       "    <tr>\n",
       "      <th>1</th>\n",
       "      <td>1.3</td>\n",
       "      <td>46205.0</td>\n",
       "    </tr>\n",
       "    <tr>\n",
       "      <th>2</th>\n",
       "      <td>1.5</td>\n",
       "      <td>37731.0</td>\n",
       "    </tr>\n",
       "    <tr>\n",
       "      <th>3</th>\n",
       "      <td>2.0</td>\n",
       "      <td>43525.0</td>\n",
       "    </tr>\n",
       "    <tr>\n",
       "      <th>4</th>\n",
       "      <td>2.2</td>\n",
       "      <td>39891.0</td>\n",
       "    </tr>\n",
       "  </tbody>\n",
       "</table>\n",
       "</div>"
      ],
      "text/plain": [
       "   YearsExperience   Salary\n",
       "0              1.1  39343.0\n",
       "1              1.3  46205.0\n",
       "2              1.5  37731.0\n",
       "3              2.0  43525.0\n",
       "4              2.2  39891.0"
      ]
     },
     "execution_count": 27,
     "metadata": {},
     "output_type": "execute_result"
    }
   ],
   "source": [
    "df.head()"
   ]
  },
  {
   "cell_type": "markdown",
   "id": "d5f5767c",
   "metadata": {},
   "source": [
    "#### Verificando as informações do Dataframe"
   ]
  },
  {
   "cell_type": "code",
   "execution_count": 28,
   "id": "6f8374c7",
   "metadata": {},
   "outputs": [
    {
     "name": "stdout",
     "output_type": "stream",
     "text": [
      "<class 'pandas.core.frame.DataFrame'>\n",
      "RangeIndex: 30 entries, 0 to 29\n",
      "Data columns (total 2 columns):\n",
      " #   Column           Non-Null Count  Dtype  \n",
      "---  ------           --------------  -----  \n",
      " 0   YearsExperience  30 non-null     float64\n",
      " 1   Salary           30 non-null     float64\n",
      "dtypes: float64(2)\n",
      "memory usage: 608.0 bytes\n"
     ]
    }
   ],
   "source": [
    "df.info()"
   ]
  },
  {
   "cell_type": "markdown",
   "id": "2abc19d3",
   "metadata": {},
   "source": [
    "#### Verificando se existem valores nulos existentes"
   ]
  },
  {
   "cell_type": "code",
   "execution_count": 29,
   "id": "5d0b9cc8",
   "metadata": {},
   "outputs": [
    {
     "data": {
      "text/plain": [
       "YearsExperience    0\n",
       "Salary             0\n",
       "dtype: int64"
      ]
     },
     "execution_count": 29,
     "metadata": {},
     "output_type": "execute_result"
    }
   ],
   "source": [
    "df.isnull().sum()"
   ]
  },
  {
   "cell_type": "markdown",
   "id": "451bf889",
   "metadata": {},
   "source": [
    "#### Visualizando as correlações e Plotando um gráfico de dispersão para visualizar as variáveis Anos de experiência e Salário"
   ]
  },
  {
   "cell_type": "code",
   "execution_count": 30,
   "id": "824dc2aa",
   "metadata": {},
   "outputs": [
    {
     "name": "stdout",
     "output_type": "stream",
     "text": [
      "                 YearsExperience    Salary\n",
      "YearsExperience         1.000000  0.978242\n",
      "Salary                  0.978242  1.000000\n"
     ]
    },
    {
     "data": {
      "text/plain": [
       "<AxesSubplot:xlabel='YearsExperience', ylabel='Salary'>"
      ]
     },
     "execution_count": 30,
     "metadata": {},
     "output_type": "execute_result"
    },
    {
     "data": {
      "image/png": "[encoded data removed]",
      "text/plain": [
       "<Figure size 432x288 with 1 Axes>"
      ]
     },
     "metadata": {
      "needs_background": "light"
     },
     "output_type": "display_data"
    }
   ],
   "source": [
    "print(df.corr())\n",
    "sns.scatterplot(x=df['YearsExperience'], y=df['Salary'], s = 50)"
   ]
  },
  {
   "cell_type": "markdown",
   "id": "68436bf6",
   "metadata": {},
   "source": [
    "#### Visualizando todas as relações"
   ]
  },
  {
   "cell_type": "code",
   "execution_count": 31,
   "id": "fb0fdacd",
   "metadata": {},
   "outputs": [
    {
     "data": {
      "text/plain": [
       "<seaborn.axisgrid.PairGrid at 0x20af0444d90>"
      ]
     },
     "execution_count": 31,
     "metadata": {},
     "output_type": "execute_result"
    },
    {
     "data": {
      "image/png": "[encoded data removed]",
      "text/plain": [
       "<Figure size 360x360 with 6 Axes>"
      ]
     },
     "metadata": {
      "needs_background": "light"
     },
     "output_type": "display_data"
    }
   ],
   "source": [
    "sns.pairplot(df, palette='coolwarm')"
   ]
  },
  {
   "cell_type": "markdown",
   "id": "f45c762f",
   "metadata": {},
   "source": [
    "#### Visualizando as correlações com um Mapa de Calor"
   ]
  },
  {
   "cell_type": "code",
   "execution_count": 32,
   "id": "e44ec4ad",
   "metadata": {},
   "outputs": [
    {
     "data": {
      "text/plain": [
       "<AxesSubplot:>"
      ]
     },
     "execution_count": 32,
     "metadata": {},
     "output_type": "execute_result"
    },
    {
     "data": {
      "image/png": "[encoded data removed]",
      "text/plain": [
       "<Figure size 432x288 with 2 Axes>"
      ]
     },
     "metadata": {
      "needs_background": "light"
     },
     "output_type": "display_data"
    }
   ],
   "source": [
    "sns.heatmap(df.corr(), cmap='coolwarm', annot=True)"
   ]
  },
  {
   "cell_type": "markdown",
   "id": "46406b21",
   "metadata": {},
   "source": [
    "- Percebemos que a  relação do Salário com os Anos de Experiência tem uma correlação muito alta de 98% \n",
    "- Na próxima etapa, vamos construir o modelo de regressão linear"
   ]
  },
  {
   "cell_type": "markdown",
   "id": "103bc590",
   "metadata": {},
   "source": [
    "### Construindo o Modelo\n",
    "- O primeiro passo é dividir o conjunto de dados fornecido, em conjunto de dados de treinamento e conjunto de dados de teste. \n",
    "- Enquanto o conjunto de dados de treinamento será usado para construir e treinar o modelo, o conjunto de dados de teste será aproveitado para validar o modelo."
   ]
  },
  {
   "cell_type": "markdown",
   "id": "6983086b",
   "metadata": {},
   "source": [
    "#### Dividindo o conjunto de dados\n",
    "- X vai receber os dados que usaremos para fazer previsões (Anos de experiência)\n",
    "- y vai receber os dados que estaremos prevendo (Salário)"
   ]
  },
  {
   "cell_type": "code",
   "execution_count": 33,
   "id": "c6f06359",
   "metadata": {},
   "outputs": [],
   "source": [
    "X = df[['YearsExperience']]\n",
    "y = df[['Salary']]"
   ]
  },
  {
   "cell_type": "markdown",
   "id": "84adbf05",
   "metadata": {},
   "source": [
    "#### Importando as bilbiotecas necessárias para treinar e constuir o modelo de Machine learning, e vamos importar também as métricas para validação do Modelo"
   ]
  },
  {
   "cell_type": "code",
   "execution_count": 34,
   "id": "165c5167",
   "metadata": {},
   "outputs": [],
   "source": [
    "from sklearn.model_selection import train_test_split\n",
    "from sklearn.linear_model import LinearRegression\n",
    "from sklearn import metrics\n",
    "from sklearn.metrics import r2_score"
   ]
  },
  {
   "cell_type": "markdown",
   "id": "d10b42c0",
   "metadata": {},
   "source": [
    "#### Dividindo os dados respectivamente em treino e teste\n",
    "- X_train e y_train serão usados para treinar o modelo\n",
    "- X_test e y_test serão usados para testar o modelo com dados novos\n",
    "- Usaremos 80% dos dados para treino, e usando o método test_size=0.2, usaremos 20% dos dados para teste"
   ]
  },
  {
   "cell_type": "code",
   "execution_count": 35,
   "id": "f53bb91b",
   "metadata": {},
   "outputs": [],
   "source": [
    "X_train, X_test, y_train, y_test = train_test_split(X, y, test_size=0.3,random_state=42)"
   ]
  },
  {
   "cell_type": "markdown",
   "id": "5b7dcc11",
   "metadata": {},
   "source": [
    "#### Constuiremos agora o modelo\n",
    "- Estaremos definindo o método de Regressão Linear como lm\n",
    "- Usaremos o método de treino .fit() e passaremos dentro os nossos parâmetros de treino"
   ]
  },
  {
   "cell_type": "code",
   "execution_count": 36,
   "id": "8673b3d8",
   "metadata": {},
   "outputs": [
    {
     "data": {
      "text/plain": [
       "LinearRegression()"
      ]
     },
     "execution_count": 36,
     "metadata": {},
     "output_type": "execute_result"
    }
   ],
   "source": [
    "lm = LinearRegression()\n",
    "lm.fit(X_train, y_train)"
   ]
  },
  {
   "cell_type": "markdown",
   "id": "e8c4cb88",
   "metadata": {},
   "source": [
    "#### Visualizando o coeficiente e o Intercept"
   ]
  },
  {
   "cell_type": "code",
   "execution_count": 37,
   "id": "ca0f6548",
   "metadata": {},
   "outputs": [
    {
     "name": "stdout",
     "output_type": "stream",
     "text": [
      "O Coeficiente é :  [[9339.08172382]]\n"
     ]
    }
   ],
   "source": [
    "m = lm.coef_\n",
    "print(\"O Coeficiente é : \", m)"
   ]
  },
  {
   "cell_type": "code",
   "execution_count": 38,
   "id": "d311bb03",
   "metadata": {},
   "outputs": [
    {
     "name": "stdout",
     "output_type": "stream",
     "text": [
      "Intercept :  [25918.43833489]\n"
     ]
    }
   ],
   "source": [
    "c= lm.intercept_\n",
    "print(\"Intercept : \", c)"
   ]
  },
  {
   "cell_type": "code",
   "execution_count": 39,
   "id": "4c10cdc3",
   "metadata": {},
   "outputs": [],
   "source": [
    "prediction = lm.predict(X_test)"
   ]
  },
  {
   "cell_type": "markdown",
   "id": "67d01e5f",
   "metadata": {},
   "source": [
    "#### Equação da linha prevista\n",
    "y = m*x + c\n",
    "\n",
    "y = 9339.08 * x + 25918.43"
   ]
  },
  {
   "cell_type": "markdown",
   "id": "a09ecae4",
   "metadata": {},
   "source": [
    "#### Predizendo 5 Valores de salário "
   ]
  },
  {
   "cell_type": "code",
   "execution_count": 40,
   "id": "bd5c979e",
   "metadata": {},
   "outputs": [
    {
     "data": {
      "text/plain": [
       "array([[115573.62288352],\n",
       "       [ 71679.93878159],\n",
       "       [102498.90847018],\n",
       "       [ 75415.57147111],\n",
       "       [ 55803.4998511 ]])"
      ]
     },
     "execution_count": 40,
     "metadata": {},
     "output_type": "execute_result"
    }
   ],
   "source": [
    "lm.predict(X_test)[:5]"
   ]
  },
  {
   "cell_type": "markdown",
   "id": "60c7604c",
   "metadata": {},
   "source": [
    "#### Visualizando os 10 Valores reais de salário para ver se o Modelo errou"
   ]
  },
  {
   "cell_type": "code",
   "execution_count": 41,
   "id": "f7dffb24",
   "metadata": {},
   "outputs": [
    {
     "data": {
      "text/html": [
       "<div>\n",
       "<style scoped>\n",
       "    .dataframe tbody tr th:only-of-type {\n",
       "        vertical-align: middle;\n",
       "    }\n",
       "\n",
       "    .dataframe tbody tr th {\n",
       "        vertical-align: top;\n",
       "    }\n",
       "\n",
       "    .dataframe thead th {\n",
       "        text-align: right;\n",
       "    }\n",
       "</style>\n",
       "<table border=\"1\" class=\"dataframe\">\n",
       "  <thead>\n",
       "    <tr style=\"text-align: right;\">\n",
       "      <th></th>\n",
       "      <th>Salary</th>\n",
       "    </tr>\n",
       "  </thead>\n",
       "  <tbody>\n",
       "    <tr>\n",
       "      <th>27</th>\n",
       "      <td>112635.0</td>\n",
       "    </tr>\n",
       "    <tr>\n",
       "      <th>15</th>\n",
       "      <td>67938.0</td>\n",
       "    </tr>\n",
       "    <tr>\n",
       "      <th>23</th>\n",
       "      <td>113812.0</td>\n",
       "    </tr>\n",
       "    <tr>\n",
       "      <th>17</th>\n",
       "      <td>83088.0</td>\n",
       "    </tr>\n",
       "    <tr>\n",
       "      <th>8</th>\n",
       "      <td>64445.0</td>\n",
       "    </tr>\n",
       "  </tbody>\n",
       "</table>\n",
       "</div>"
      ],
      "text/plain": [
       "      Salary\n",
       "27  112635.0\n",
       "15   67938.0\n",
       "23  113812.0\n",
       "17   83088.0\n",
       "8    64445.0"
      ]
     },
     "execution_count": 41,
     "metadata": {},
     "output_type": "execute_result"
    }
   ],
   "source": [
    "y_test[:5]"
   ]
  },
  {
   "cell_type": "markdown",
   "id": "720c329c",
   "metadata": {},
   "source": [
    "#### Prevendo as respostas (y, o Salário) com base no preditor (X, Anos de experiência)\n",
    "\n",
    "#### E em seguida estaremos comparando o valor previsto com a resposta real (que foi armazenada em y_test)"
   ]
  },
  {
   "cell_type": "code",
   "execution_count": 42,
   "id": "bf5ecc66",
   "metadata": {},
   "outputs": [
    {
     "data": {
      "text/plain": [
       "Text(0, 0.5, 'Predicted Y')"
      ]
     },
     "execution_count": 42,
     "metadata": {},
     "output_type": "execute_result"
    },
    {
     "data": {
      "image/png": "[encoded data removed]",
      "text/plain": [
       "<Figure size 432x288 with 1 Axes>"
      ]
     },
     "metadata": {
      "needs_background": "light"
     },
     "output_type": "display_data"
    }
   ],
   "source": [
    "plt.scatter(y_test, prediction)\n",
    "plt.xlabel('Y test')\n",
    "plt.ylabel('Predicted Y')"
   ]
  },
  {
   "cell_type": "markdown",
   "id": "3e79d447",
   "metadata": {},
   "source": [
    "### Validando o Modelo \n",
    " - Nesta etapa, verificaremos o desempenho do modelo construído."
   ]
  },
  {
   "cell_type": "markdown",
   "id": "dad3666d",
   "metadata": {},
   "source": [
    "#### Existem várias métricas de desempenho e começaremos com o valor de r ao quadrado: \n",
    "\n",
    "R-squared  (R ao quadrado ou R2) é uma medida estatística que representa a medida de qualidade de ajuste para modelos de regressão linear. R-squared é a porcentagem da variação da variável dependente que um modelo linear explica.\n",
    "\n",
    "O R-squared está sempre entre 0 e 1 (0% a 100%)\n",
    "\n",
    "0 representa um modelo que não explica nenhuma variação da variável resposta em torno de sua média. 1 representa um modelo que explica toda a variação da variável resposta em torno de sua média. Normalmente, quanto maior o R2, melhor o modelo de regressão se ajusta às suas observações."
   ]
  },
  {
   "cell_type": "code",
   "execution_count": 43,
   "id": "88099b7a",
   "metadata": {},
   "outputs": [
    {
     "name": "stdout",
     "output_type": "stream",
     "text": [
      "R-squared:  0.9414466227178214\n"
     ]
    }
   ],
   "source": [
    "r2 = r2_score(y_test, prediction)\n",
    "\n",
    "print(\"R-squared: \", r2)"
   ]
  },
  {
   "cell_type": "code",
   "execution_count": 44,
   "id": "6cd710cc",
   "metadata": {},
   "outputs": [
    {
     "data": {
      "text/plain": [
       "0.9414466227178214"
      ]
     },
     "execution_count": 44,
     "metadata": {},
     "output_type": "execute_result"
    }
   ],
   "source": [
    "lm.score(X_test,y_test)"
   ]
  },
  {
   "cell_type": "code",
   "execution_count": 45,
   "id": "0dc5fe39",
   "metadata": {},
   "outputs": [
    {
     "name": "stdout",
     "output_type": "stream",
     "text": [
      "Erro médio absoluto:           5161.328710400183\n",
      "Erro médio quadrático:         37784662.46621314\n",
      "Raiz do erro médio quadrático: 6146.92300799458\n"
     ]
    }
   ],
   "source": [
    "print('Erro médio absoluto:          ', metrics.mean_absolute_error(y_test, prediction))\n",
    "print('Erro médio quadrático:        ', metrics.mean_squared_error(y_test, prediction))\n",
    "print('Raiz do erro médio quadrático:', np.sqrt(metrics.mean_squared_error(y_test, prediction)))"
   ]
  },
  {
   "cell_type": "markdown",
   "id": "a2b4d039",
   "metadata": {},
   "source": [
    "#### Predizendo salários com 3,5 anos de Experiência"
   ]
  },
  {
   "cell_type": "code",
   "execution_count": 46,
   "id": "d09939ae",
   "metadata": {},
   "outputs": [
    {
     "data": {
      "text/plain": [
       "array([[58605.22436825]])"
      ]
     },
     "execution_count": 46,
     "metadata": {},
     "output_type": "execute_result"
    }
   ],
   "source": [
    "lm.predict([[3.5]])"
   ]
  },
  {
   "cell_type": "markdown",
   "id": "8b55f41d",
   "metadata": {},
   "source": [
    "#### Equação da linha prevista\n",
    "y = m*x + c\n",
    "\n",
    "y = 9339.08 * x + 25918.43"
   ]
  },
  {
   "cell_type": "code",
   "execution_count": 48,
   "id": "f08dad7c",
   "metadata": {},
   "outputs": [
    {
     "data": {
      "text/plain": [
       "58605.21"
      ]
     },
     "execution_count": 48,
     "metadata": {},
     "output_type": "execute_result"
    }
   ],
   "source": [
    "9339.08 *3.5+ 25918.43"
   ]
  },
  {
   "cell_type": "markdown",
   "id": "072aaebc",
   "metadata": {},
   "source": [
    "- Podemos ver que o Modelo errou muito pouco"
   ]
  },
  {
   "cell_type": "code",
   "execution_count": 49,
   "id": "34393870",
   "metadata": {},
   "outputs": [
    {
     "data": {
      "image/png": "[encoded data removed]",
      "text/plain": [
       "<Figure size 576x432 with 1 Axes>"
      ]
     },
     "metadata": {
      "needs_background": "light"
     },
     "output_type": "display_data"
    }
   ],
   "source": [
    "plt.figure(figsize=(8,6))\n",
    "sns.scatterplot(data=df,x=\"YearsExperience\",y=\"Salary\",palette=\"deep\",s=60)\n",
    "plt.plot(X_test[\"YearsExperience\"],prediction)\n",
    "plt.xlabel(\"Years of Experience\",size=\"15\")\n",
    "plt.ylabel(\"Salary\",size=\"15\")\n",
    "plt.show()"
   ]
  },
  {
   "cell_type": "markdown",
   "id": "e2398ecd",
   "metadata": {},
   "source": [
    "### Conclusão: \n",
    "- Estou satisfeito com as previsões do Modelo de Regressão Linear\n",
    "- O nosso Modelo funciona bem com 94% de precisão."
   ]
  },
  {
   "cell_type": "code",
   "execution_count": null,
   "id": "0b03ccd8",
   "metadata": {},
   "outputs": [],
   "source": []
  }
 ],
 "metadata": {
  "kernelspec": {
   "display_name": "Python 3 (ipykernel)",
   "language": "python",
   "name": "python3"
  },
  "language_info": {
   "codemirror_mode": {
    "name": "ipython",
    "version": 3
   },
   "file_extension": ".py",
   "mimetype": "text/x-python",
   "name": "python",
   "nbconvert_exporter": "python",
   "pygments_lexer": "ipython3",
   "version": "3.9.12"
  }
 },
 "nbformat": 4,
 "nbformat_minor": 5
}
